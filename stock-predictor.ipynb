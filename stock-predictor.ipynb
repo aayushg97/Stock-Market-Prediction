{
 "cells": [
  {
   "cell_type": "code",
   "execution_count": 1,
   "id": "68114f52",
   "metadata": {},
   "outputs": [],
   "source": [
    "import numpy as np"
   ]
  },
  {
   "cell_type": "code",
   "execution_count": 2,
   "id": "247910c4",
   "metadata": {},
   "outputs": [],
   "source": [
    "# Reading NASDAQ data for the year 2000\n",
    "indices2000 = []\n",
    "with open('nasdaq00.txt', 'r') as f:\n",
    "    lines = f.readlines()\n",
    "    indices2000 = [float(index.replace('\\n', '')) for index in lines]"
   ]
  },
  {
   "cell_type": "markdown",
   "id": "2b5427e1",
   "metadata": {},
   "source": [
    "In the code, following equations are used to compute the linear coefficients that maximize ${\\cal L}$<br><br>\n",
    "$${\\cal L} = \\sum_t \\log P(x_t|x_{t-1},x_{t-2},x_{t-3})$$\n",
    "$${\\cal L} = \\sum_t \\log \\left[\\frac{1}{\\sqrt{2\\pi}}\\exp\\left[-\\frac{1}{2}\\biggl(x_t - a_1 x_{t-1} - a_2 x_{t-2} - a_3 x_{t-3}\\biggr)^2\\right]\\right]$$\n",
    "$${\\cal L} = \\sum_t \\left[\\log \\frac{1}{\\sqrt{2\\pi}} + \\log \\left[\\exp\\left[-\\frac{1}{2}\\biggl(x_t - a_1 x_{t-1} - a_2 x_{t-2} - a_3 x_{t-3}\\biggr)^2\\right]\\right]\\right]$$\n",
    "$${\\cal L} = \\sum_t \\log \\frac{1}{\\sqrt{2\\pi}} + \\sum_t \\log \\left[\\exp\\left[-\\frac{1}{2}\\biggl(x_t - a_1 x_{t-1} - a_2 x_{t-2} - a_3 x_{t-3}\\biggr)^2\\right]\\right]$$\n",
    "$${\\cal L} = \\sum_t \\log \\frac{1}{\\sqrt{2\\pi}} - \\sum_t \\frac{1}{2}\\biggl(x_t - a_1 x_{t-1} - a_2 x_{t-2} - a_3 x_{t-3}\\biggr)^2$$\n",
    "$$To\\ maximize\\ {\\cal L},\\ \\frac{\\partial {\\cal L}}{\\partial a_i} = 0\\ for\\ i \\in \\{1, 2, 3\\}$$\n",
    "$$\\frac{\\partial {\\cal L}}{\\partial a_i} = \\sum_t x_{t-i} \\biggl(x_t - a_1 x_{t-1} - a_2 x_{t-2} - a_3 x_{t-3}\\biggr) = 0$$\n",
    "$$\\sum_t \\biggl(x_{t-i} x_t - a_1 x_{t-i} x_{t-1} - a_2 x_{t-i} x_{t-2} - a_3 x_{t-i} x_{t-3}\\biggr) = 0$$\n",
    "$$\\sum_t x_{t-i} x_t - a_1 \\sum_t x_{t-i} x_{t-1} - a_2 \\sum_t x_{t-i} x_{t-2} - a_3 \\sum_t x_{t-i} x_{t-3} = 0$$\n",
    "$$a_1 \\sum_t x_{t-i} x_{t-1} + a_2 \\sum_t x_{t-i} x_{t-2} + a_3 \\sum_t x_{t-i} x_{t-3} = \\sum_t x_{t-i} x_t$$\n",
    "<br>This can be written as a matrix equation like the one shown below :-<br><br>\n",
    "$$X  A = Y,\\ where$$\n",
    "$$X = \n",
    "\\begin{pmatrix}\n",
    "\\sum_t x_{t-1}^2 & \\sum_t x_{t-1} x_{t-2} & \\sum_t x_{t-1} x_{t-3}\\\\\n",
    "\\sum_t x_{t-2} x_{t-1} & \\sum_t x_{t-2}^2 & \\sum_t x_{t-2} x_{t-3}\\\\\n",
    "\\sum_t X_{t-3} x_{t-1} & \\sum_t x_{t-3} x_{t-2} & \\sum_t x_{t-3}^2\\\\\n",
    "\\end{pmatrix}\n",
    "$$\n",
    "$$A = \n",
    "\\begin{pmatrix}\n",
    "    a_1\\\\\n",
    "    a_2\\\\\n",
    "    a_3\n",
    "\\end{pmatrix}$$\n",
    "$$Y = \n",
    "\\begin{pmatrix}\n",
    "    \\sum_t x_t x_{t-1}\\\\\n",
    "    \\sum_t x_t x_{t-2}\\\\\n",
    "    \\sum_t x_t x_{t-3}\n",
    "\\end{pmatrix}$$"
   ]
  },
  {
   "cell_type": "code",
   "execution_count": 3,
   "id": "e9536acc",
   "metadata": {},
   "outputs": [
    {
     "name": "stdout",
     "output_type": "stream",
     "text": [
      "[[0.95067337 0.01560133 0.03189569]]\n"
     ]
    }
   ],
   "source": [
    "# Part A\n",
    "# Solving the matrix equation explained before\n",
    "Xt = indices2000[3:249]\n",
    "XtMinus1 = indices2000[2:248]\n",
    "XtMinus2 = indices2000[1:247]\n",
    "XtMinus3 = indices2000[0:246]\n",
    "\n",
    "X00 = sum(np.array(XtMinus1)**2)\n",
    "X01 = sum(np.multiply(XtMinus1, XtMinus2))\n",
    "X02 = sum(np.multiply(XtMinus1, XtMinus3))\n",
    "\n",
    "X10 = sum(np.multiply(XtMinus2, XtMinus1))\n",
    "X11 = sum(np.multiply(XtMinus2, XtMinus2))\n",
    "X12 = sum(np.multiply(XtMinus2, XtMinus3))\n",
    "\n",
    "X20 = sum(np.multiply(XtMinus3, XtMinus1))\n",
    "X21 = sum(np.multiply(XtMinus3, XtMinus2))\n",
    "X22 = sum(np.multiply(XtMinus3, XtMinus3))\n",
    "\n",
    "Y0 = sum(np.multiply(Xt, XtMinus1))\n",
    "Y1 = sum(np.multiply(Xt, XtMinus2))\n",
    "Y2 = sum(np.multiply(Xt, XtMinus3))\n",
    "\n",
    "X = np.array([[X00, X01, X02], [X10, X11, X12], [X20, X21, X22]])\n",
    "Y = np.array([[Y0, Y1, Y2]])\n",
    "A = np.dot(Y, np.linalg.inv(X))\n",
    "\n",
    "print(A)"
   ]
  },
  {
   "cell_type": "code",
   "execution_count": 4,
   "id": "8222e34b",
   "metadata": {},
   "outputs": [],
   "source": [
    "# Reading NASDAQ data for the year 2001\n",
    "indices2001 = []\n",
    "with open('nasdaq01.txt', 'r') as f:\n",
    "    lines = f.readlines()\n",
    "    indices2001 = [float(index.replace('\\n', '')) for index in lines]"
   ]
  },
  {
   "cell_type": "code",
   "execution_count": 5,
   "id": "6ea0ffd8",
   "metadata": {},
   "outputs": [
    {
     "name": "stdout",
     "output_type": "stream",
     "text": [
      "RMSE on data from 2000  117.90844361778285\n",
      "RMSE on data from 2001  54.636049675199\n"
     ]
    }
   ],
   "source": [
    "# Part B\n",
    "# RMSE for year 2000\n",
    "Xt = indices2000[3:249]\n",
    "XtMinus1 = indices2000[2:248]\n",
    "XtMinus2 = indices2000[1:247]\n",
    "XtMinus3 = indices2000[0:246]\n",
    "X = np.array([XtMinus1, XtMinus2, XtMinus3])\n",
    "Y = np.array([Xt])\n",
    "rmse2000 = np.sqrt(np.sum((np.dot(A,X) - Y)**2)/len(Xt))\n",
    "\n",
    "# RMSE for year 2001\n",
    "Xt = indices2001[3:248]\n",
    "XtMinus1 = indices2001[2:247]\n",
    "XtMinus2 = indices2001[1:246]\n",
    "XtMinus3 = indices2001[0:245]\n",
    "X = np.array([XtMinus1, XtMinus2, XtMinus3])\n",
    "Y = np.array([Xt])\n",
    "rmse2001 = np.sqrt(np.sum((np.dot(A,X) - Y)**2)/len(Xt))\n",
    "\n",
    "print(\"RMSE on data from 2000 \", rmse2000)\n",
    "print(\"RMSE on data from 2001 \", rmse2001)"
   ]
  }
 ],
 "metadata": {
  "kernelspec": {
   "display_name": "Python 3 (ipykernel)",
   "language": "python",
   "name": "python3"
  },
  "language_info": {
   "codemirror_mode": {
    "name": "ipython",
    "version": 3
   },
   "file_extension": ".py",
   "mimetype": "text/x-python",
   "name": "python",
   "nbconvert_exporter": "python",
   "pygments_lexer": "ipython3",
   "version": "3.9.12"
  }
 },
 "nbformat": 4,
 "nbformat_minor": 5
}
